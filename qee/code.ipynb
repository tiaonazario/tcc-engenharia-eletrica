{
 "cells": [
  {
   "cell_type": "code",
   "execution_count": 37,
   "metadata": {},
   "outputs": [],
   "source": [
    "import pandas as pd\n",
    "from qee.functions import get_files_by_extension"
   ]
  },
  {
   "cell_type": "code",
   "execution_count": 38,
   "metadata": {},
   "outputs": [],
   "source": [
    "files = get_files_by_extension(\"./data/csv\", \"csv\")"
   ]
  },
  {
   "cell_type": "markdown",
   "metadata": {},
   "source": [
    "## Criar um arquivo csv para cada tipo de leitura"
   ]
  },
  {
   "cell_type": "code",
   "execution_count": 39,
   "metadata": {},
   "outputs": [],
   "source": [
    "def create_dataframe_from_column(df: pd.DataFrame, column: int = 0) -> pd.DataFrame:\n",
    "    return df[df.columns[column:]]\n",
    "\n",
    "def save_df_as_csv(df: pd.DataFrame, path: str) -> None:\n",
    "    df.to_csv(path, sep=';', index=False)"
   ]
  },
  {
   "cell_type": "markdown",
   "metadata": {},
   "source": [
    "### Arquivo 202302010705_202302041355_1_ET-5061C"
   ]
  },
  {
   "cell_type": "code",
   "execution_count": 40,
   "metadata": {},
   "outputs": [],
   "source": [
    "df1_0 = pd.read_csv(files[0], sep=';')\n",
    "df1_1 = create_dataframe_from_column(pd.read_csv(files[1], sep=';'), 2)\n",
    "df1_2 = create_dataframe_from_column(pd.read_csv(files[2], sep=';'), 2)\n",
    "df1_3 = create_dataframe_from_column(pd.read_csv(files[3], sep=';'), 2)\n",
    "\n",
    "df1 = pd.concat([df1_0, df1_1, df1_2, df1_3], axis=1)\n",
    "\n",
    "save_df_as_csv(df1, \"./data/202302010705_202302041355_1_ET-5061C.csv\")"
   ]
  },
  {
   "cell_type": "markdown",
   "metadata": {},
   "source": [
    "### Arquivo 202302082112_202302091342_2_ET-5061C"
   ]
  },
  {
   "cell_type": "code",
   "execution_count": 41,
   "metadata": {},
   "outputs": [],
   "source": [
    "df2_0 = pd.read_csv(files[0], sep=';')\n",
    "df2_1 = create_dataframe_from_column(pd.read_csv(files[1], sep=';'), 2)\n",
    "df2_2 = create_dataframe_from_column(pd.read_csv(files[2], sep=';'), 2)\n",
    "df2_3 = create_dataframe_from_column(pd.read_csv(files[3], sep=';'), 2)\n",
    "\n",
    "df2 = pd.concat([df2_0, df2_1, df2_2, df2_3], axis=1)\n",
    "\n",
    "save_df_as_csv(df2, \"./data/202302082112_202302091342_2_ET-5061C.csv\")"
   ]
  },
  {
   "cell_type": "markdown",
   "metadata": {},
   "source": [
    "### Arquivo 202304071810_202304080130_3_ET-5061C"
   ]
  },
  {
   "cell_type": "code",
   "execution_count": 42,
   "metadata": {},
   "outputs": [],
   "source": [
    "df3_0 = pd.read_csv(files[0], sep=';')\n",
    "df3_1 = create_dataframe_from_column(pd.read_csv(files[1], sep=';'), 2)\n",
    "df3_2 = create_dataframe_from_column(pd.read_csv(files[2], sep=';'), 2)\n",
    "\n",
    "df3 = pd.concat([df3_0, df3_1, df3_2], axis=1)\n",
    "\n",
    "save_df_as_csv(df2, \"./data/202304071810_202304080130_3_ET-5061C.csv\")"
   ]
  },
  {
   "cell_type": "markdown",
   "metadata": {},
   "source": [
    "### Arquivo 202304091523_202304091833_4_ET-5061C"
   ]
  },
  {
   "cell_type": "code",
   "execution_count": 43,
   "metadata": {},
   "outputs": [],
   "source": [
    "df4_0 = pd.read_csv(files[0], sep=';')\n",
    "df4_1 = create_dataframe_from_column(pd.read_csv(files[1], sep=';'), 2)\n",
    "df4_2 = create_dataframe_from_column(pd.read_csv(files[2], sep=';'), 2)\n",
    "\n",
    "df4 = pd.concat([df4_0, df4_1, df4_2], axis=1)\n",
    "\n",
    "save_df_as_csv(df2, \"./data/202304091523_202304091833_4_ET-5061C.csv\")"
   ]
  },
  {
   "cell_type": "markdown",
   "metadata": {},
   "source": [
    "### Arquivo 202304100823_202304101803_5_ET-5061C"
   ]
  },
  {
   "cell_type": "code",
   "execution_count": 44,
   "metadata": {},
   "outputs": [],
   "source": [
    "df5_0 = pd.read_csv(files[0], sep=';')\n",
    "df5_1 = create_dataframe_from_column(pd.read_csv(files[1], sep=';'), 2)\n",
    "df5_2 = create_dataframe_from_column(pd.read_csv(files[2], sep=';'), 2)\n",
    "\n",
    "df5 = pd.concat([df5_0, df5_1, df5_2], axis=1)\n",
    "\n",
    "save_df_as_csv(df2, \"./data/202304100823_202304101803_5_ET-5061C.csv\")"
   ]
  },
  {
   "cell_type": "markdown",
   "metadata": {},
   "source": [
    "### Arquivo 202304110900_202305011720_6_ET-5061C"
   ]
  },
  {
   "cell_type": "code",
   "execution_count": 45,
   "metadata": {},
   "outputs": [],
   "source": [
    "df6_0 = pd.read_csv(files[0], sep=';')\n",
    "df6_1 = create_dataframe_from_column(pd.read_csv(files[1], sep=';'), 2)\n",
    "df6_2 = create_dataframe_from_column(pd.read_csv(files[2], sep=';'), 2)\n",
    "\n",
    "df6 = pd.concat([df6_0, df6_1, df6_2], axis=1)\n",
    "\n",
    "save_df_as_csv(df2, \"./data/202304110900_202305011720_6_ET-5061C.csv\")"
   ]
  }
 ],
 "metadata": {
  "kernelspec": {
   "display_name": ".venv",
   "language": "python",
   "name": "python3"
  },
  "language_info": {
   "codemirror_mode": {
    "name": "ipython",
    "version": 3
   },
   "file_extension": ".py",
   "mimetype": "text/x-python",
   "name": "python",
   "nbconvert_exporter": "python",
   "pygments_lexer": "ipython3",
   "version": "3.11.0"
  },
  "orig_nbformat": 4
 },
 "nbformat": 4,
 "nbformat_minor": 2
}
